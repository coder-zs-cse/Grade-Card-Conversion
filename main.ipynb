{
 "cells": [
  {
   "cell_type": "code",
   "execution_count": 68,
   "metadata": {},
   "outputs": [],
   "source": [
    "import PyPDF2\n",
    "import fitz  # PyMuPDF library\n",
    "\n",
    "\n",
    "def read_pdf_text(filepath):\n",
    "  \"\"\"\n",
    "  Reads all recognized text from a PDF file and prints it.\n",
    "\n",
    "  Args:\n",
    "    filepath: Path to the PDF file.\n",
    "    \n",
    "  \"\"\"\n",
    "  student_data = []\n",
    "  try:\n",
    "\n",
    "    with fitz.open(filepath) as pdf_file:\n",
    "      for i in range(pdf_file.page_count):\n",
    "        pdf_reader = pdf_file[i].get_text(\"text\")\n",
    "        student_data.append(pdf_reader)\n",
    "      return student_data\n",
    "\n",
    "  except FileNotFoundError:\n",
    "    print(f\"Error: PDF file not found at {filepath}\")\n",
    "\n",
    "\n",
    "# # Example usage\n",
    "# pdf_filepath = \"mergedPDF.pdf\"\n",
    "# extractedText = read_pdf_text(pdf_filepath)\n",
    "\n",
    "\n",
    "def parse_grade_report(grade_report_text):\n",
    "    data = {}\n",
    "    lines = grade_report_text.strip().split('\\n')\n",
    "    # print(\"line:\",lines)\n",
    "    data['PROGRAMME'] = lines[1].strip().split(':')[1].strip()\n",
    "    data['DISCIPLINE'] = lines[6].strip().split(':')[1].strip()\n",
    "    data['NAME'] = lines[9].strip()\n",
    "    data['ROLL NO'] = lines[10].strip()\n",
    "    data['SEMESTER'] = lines[11].strip()\n",
    "    data['YEAR'] = lines[13].strip()\n",
    "\n",
    "    grades = []\n",
    "    for index,line in enumerate(lines[19::4]):\n",
    "        grade = line.strip()\n",
    "        if(grade==\"EARNED CREDITS\"):\n",
    "            break\n",
    "        credit = lines[19+index*4+1].strip()\n",
    "        subject_name = lines[19+index*4+2].strip()\n",
    "        subject_code = lines[19+index*4+3].strip()\n",
    "        grades.append((subject_code, subject_name, credit, grade))\n",
    "        \n",
    "    # print(grades)\n",
    "    # print(data)\n",
    "    data['GRADES'] = grades\n",
    "    data['REGISTERED CREDITS'] = lines[-7].strip()\n",
    "    data['EARNED CREDITS'] = lines[-9].strip()\n",
    "    data['EARNED GRADE POINTS'] = lines[-4].strip()\n",
    "    data['SGPA'] = lines[-5].strip()\n",
    "    data['TOTAL EARNED CREDITS'] = lines[-8].strip()\n",
    "    data['TOTAL EARNED GRADE POINTS'] = lines[-3].strip()\n",
    "    data['CGPA'] = lines[-6].strip()\n",
    "\n",
    "    return data\n",
    "\n"
   ]
  },
  {
   "cell_type": "markdown",
   "metadata": {},
   "source": [
    "### Enter the relative file path of the pdf file you want to extract grade card information from\n"
   ]
  },
  {
   "cell_type": "code",
   "execution_count": 69,
   "metadata": {},
   "outputs": [],
   "source": [
    "pdf_filepath = \"sample.pdf\""
   ]
  },
  {
   "cell_type": "markdown",
   "metadata": {},
   "source": [
    "### Enter the name of the output csv file. Make sure it is unique and such a file does not exist already in your directory\n"
   ]
  },
  {
   "cell_type": "code",
   "execution_count": 70,
   "metadata": {},
   "outputs": [],
   "source": [
    "output_csv_filepath = 'sample.csv'"
   ]
  },
  {
   "cell_type": "code",
   "execution_count": 71,
   "metadata": {},
   "outputs": [],
   "source": [
    "extractedText = read_pdf_text(pdf_filepath)\n",
    "\n",
    "student_data = []\n",
    "for student in extractedText:\n",
    "    student_data.append(parse_grade_report(student))"
   ]
  },
  {
   "cell_type": "code",
   "execution_count": 72,
   "metadata": {},
   "outputs": [],
   "source": [
    "import csv\n",
    "\n",
    "# Define the header row\n",
    "header = ['PROGRAMME','DISCIPLINE','NAME', 'ROLL NO', 'SEMESTER', 'YEAR', 'SGPA', 'CGPA', 'REGISTERED CREDITS','EARNED CREDITS', 'TOTAL EARNED CREDITS', 'EARNED GRADE POINTS','TOTAL EARNED GRADE POINTS']\n",
    "for i in range(1, 11):\n",
    "    header.extend([f'course{i}_code', f'course{i}_name', f'course{i}_grade', f'course{i}_credit'])\n",
    "\n",
    "# Open the CSV file for writing\n",
    "with open(output_csv_filepath, mode='w', newline='') as file:\n",
    "    writer = csv.writer(file)\n",
    "\n",
    "    # Write the header row\n",
    "    writer.writerow(header)\n",
    "\n",
    "    # Write student data to the CSV file\n",
    "    for student in student_data:\n",
    "        row = [student['PROGRAMME'], student['DISCIPLINE'], student['NAME'], student['ROLL NO'], student['SEMESTER'], student['YEAR'], student['SGPA'], student['CGPA'], student['REGISTERED CREDITS'], student['EARNED CREDITS'], student['TOTAL EARNED CREDITS'], student['EARNED GRADE POINTS'],student['TOTAL EARNED GRADE POINTS']]\n",
    "\n",
    "        # Add subject information to the row\n",
    "        for i, subject in enumerate(student['GRADES'], start=1):\n",
    "            row.extend([subject[0], subject[1], subject[3], subject[2]])\n",
    "\n",
    "        # Fill remaining subject cells with empty strings\n",
    "        remaining_cells = (10 - len(student['GRADES'])) * 4\n",
    "        row.extend([''] * remaining_cells)\n",
    "\n",
    "        # Write the row to the CSV file\n",
    "        writer.writerow(row)"
   ]
  },
  {
   "cell_type": "code",
   "execution_count": null,
   "metadata": {},
   "outputs": [],
   "source": []
  }
 ],
 "metadata": {
  "kernelspec": {
   "display_name": "Python 3",
   "language": "python",
   "name": "python3"
  },
  "language_info": {
   "codemirror_mode": {
    "name": "ipython",
    "version": 3
   },
   "file_extension": ".py",
   "mimetype": "text/x-python",
   "name": "python",
   "nbconvert_exporter": "python",
   "pygments_lexer": "ipython3",
   "version": "3.10.0"
  }
 },
 "nbformat": 4,
 "nbformat_minor": 2
}
